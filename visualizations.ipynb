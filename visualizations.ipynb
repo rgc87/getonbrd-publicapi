{
 "cells": [
  {
   "cell_type": "code",
   "execution_count": null,
   "metadata": {},
   "outputs": [],
   "source": [
    "# from getonbrd import *\n",
    "import pandas as pd"
   ]
  },
  {
   "cell_type": "code",
   "execution_count": 2,
   "metadata": {},
   "outputs": [],
   "source": [
    "from bson.objectid import ObjectId\n",
    "from pymongo import MongoClient"
   ]
  },
  {
   "cell_type": "markdown",
   "metadata": {},
   "source": [
    "# Manage database."
   ]
  },
  {
   "cell_type": "code",
   "execution_count": 69,
   "metadata": {},
   "outputs": [],
   "source": [
    "client = MongoClient('mongodb://localhost:27017/')\n",
    "my_db = client['getonbrd_job_offers']"
   ]
  },
  {
   "cell_type": "code",
   "execution_count": 70,
   "metadata": {},
   "outputs": [
    {
     "data": {
      "text/plain": [
       "['jobs_sysadmin_devops_qa',\n",
       " 'jobs_mobile_developer',\n",
       " 'jobs_programming',\n",
       " 'jobs_data_science_analytics',\n",
       " 'jobs_machine_learning_ai']"
      ]
     },
     "execution_count": 70,
     "metadata": {},
     "output_type": "execute_result"
    }
   ],
   "source": [
    "collections = my_db.list_collection_names()\n",
    "collections"
   ]
  },
  {
   "cell_type": "markdown",
   "metadata": {},
   "source": [
    "## Count_documents()."
   ]
  },
  {
   "cell_type": "code",
   "execution_count": 71,
   "metadata": {},
   "outputs": [
    {
     "name": "stdout",
     "output_type": "stream",
     "text": [
      "103 : jobs_sysadmin_devops_qa\n",
      "40 : jobs_mobile_developer\n",
      "454 : jobs_programming\n",
      "21 : jobs_data_science_analytics\n",
      "1 : jobs_machine_learning_ai\n"
     ]
    }
   ],
   "source": [
    "for c in collections:\n",
    "    print(f\"{my_db[c].count_documents({})} : {c}\")"
   ]
  },
  {
   "cell_type": "markdown",
   "metadata": {},
   "source": [
    "## Newest entry. \"[published_at]\""
   ]
  },
  {
   "cell_type": "code",
   "execution_count": 77,
   "metadata": {},
   "outputs": [
    {
     "data": {
      "text/plain": [
       "{'title': 'Developer Engineer for Fintech Squad',\n",
       " 'published_at': datetime.datetime(2022, 8, 23, 17, 51, 23),\n",
       " 'seniority': 'semi_senior'}"
      ]
     },
     "execution_count": 77,
     "metadata": {},
     "output_type": "execute_result"
    }
   ],
   "source": [
    "collection = my_db[collections[2]]\n",
    "\n",
    "r = collection.aggregate([\n",
    "    {'$project':{\n",
    "                '_id':0,\n",
    "                'title':1,\n",
    "                'published_at':1,\n",
    "                'seniority':1,\n",
    "                }},\n",
    "    \n",
    "    {'$sort':{'published_at':-1}},\n",
    "    {'$limit':1},\n",
    "])\n",
    "\n",
    "next(r)"
   ]
  },
  {
   "cell_type": "markdown",
   "metadata": {},
   "source": [
    "## n Jobs"
   ]
  },
  {
   "cell_type": "code",
   "execution_count": 112,
   "metadata": {},
   "outputs": [
    {
     "name": "stdout",
     "output_type": "stream",
     "text": [
      "\n",
      "2022-08-23 17:51:23 // Developer Engineer for Fintech Squad // Company: wherEX // semi_senior // https://www.getonbrd.com/jobs/fullstack-developer-semi-senior-wherex-remote\n"
     ]
    }
   ],
   "source": [
    "collection = my_db['jobs_programming']\n",
    "\n",
    "enejobs = collection.aggregate([\n",
    "    {'$project':{\n",
    "                '_id':0,\n",
    "                'title':1,\n",
    "                'published_at':1,\n",
    "                'seniority':1,\n",
    "                'public_url':1,\n",
    "                'tags':1,\n",
    "                'company':1,\n",
    "                }\n",
    "    },\n",
    "    {'$sort':{'published_at':-1}},\n",
    "    {'$limit':1},\n",
    "])\n",
    "for i in enejobs:\n",
    "    print(f\"\\n{i.get('published_at')} // {i.get('title')} // Company: {i['company']} // {i.get('seniority')} // {i.get('public_url') }\")\n",
    "    # if i['seniority']==('junior' or 'sin_experiencia'):\n",
    "        # if ( 'matlab' in i['tags']):\n",
    "            # print(i['tags'][:5])\n",
    "            # print(f\"\\n{i.get('published_at')} // {i.get('title')} // {i.get('seniority')} // {i.get('public_url') }\")"
   ]
  },
  {
   "cell_type": "markdown",
   "metadata": {},
   "source": [
    "## LOOP, newest entry."
   ]
  },
  {
   "cell_type": "code",
   "execution_count": 74,
   "metadata": {},
   "outputs": [
    {
     "name": "stdout",
     "output_type": "stream",
     "text": [
      "{'published_at': datetime.datetime(2022, 2, 7, 12, 6, 48), 'seniority': 'semi_senior', 'company': 11760} \t CATEGORY jobs_machine_learning_ai\n",
      "{'published_at': datetime.datetime(2022, 8, 23, 8, 33, 34), 'seniority': 'semi_senior', 'company': 2314} \t CATEGORY jobs_data_science_analytics\n",
      "{'published_at': datetime.datetime(2022, 8, 23, 10, 34, 10), 'seniority': 'semi_senior', 'company': 3653} \t CATEGORY jobs_mobile_developer\n",
      "{'published_at': datetime.datetime(2022, 8, 23, 13, 22, 42), 'seniority': 'senior', 'company': 7738} \t CATEGORY jobs_sysadmin_devops_qa\n",
      "{'published_at': datetime.datetime(2022, 8, 23, 17, 51, 23), 'seniority': 'semi_senior', 'company': 'wherEX'} \t CATEGORY jobs_programming\n"
     ]
    }
   ],
   "source": [
    "categories = [\n",
    "    'jobs_machine_learning_ai',\n",
    "    'jobs_data_science_analytics',\n",
    "    'jobs_mobile_developer',\n",
    "    'jobs_sysadmin_devops_qa',\n",
    "    'jobs_programming', \n",
    "]\n",
    "for c in categories:\n",
    "    collection = my_db[c]\n",
    "    r = collection.aggregate([\n",
    "        {'$project':{\n",
    "                    '_id':0,\n",
    "                    'published_at':1,\n",
    "                    'company':1,\n",
    "                    'seniority':1,\n",
    "                    # 'title':1,\n",
    "                    # 'tags':1,\n",
    "                    }},\n",
    "        \n",
    "        {'$sort':{'published_at':-1}},\n",
    "        {'$limit':1},\n",
    "    ])\n",
    "    print(f\"{next(r)} \\t CATEGORY {c}\")"
   ]
  },
  {
   "cell_type": "markdown",
   "metadata": {},
   "source": [
    "# Query database. Aggregation."
   ]
  },
  {
   "cell_type": "code",
   "execution_count": null,
   "metadata": {},
   "outputs": [],
   "source": [
    "client = MongoClient('mongodb://localhost:27017/')\n",
    "my_db = client['getonbrd_api']"
   ]
  },
  {
   "cell_type": "code",
   "execution_count": null,
   "metadata": {},
   "outputs": [],
   "source": [
    "categories = [\n",
    "    'jobs_programming',\n",
    "    'jobs_data_science_analytics',\n",
    "    'jobs_sysadmin_devops_qa',\n",
    "    'jobs_machine_learning_ai',\n",
    "    'jobs_mobile_developer',\n",
    "]"
   ]
  },
  {
   "cell_type": "code",
   "execution_count": null,
   "metadata": {},
   "outputs": [],
   "source": [
    "colls = my_db[categories[0]]\n",
    "colls"
   ]
  },
  {
   "cell_type": "code",
   "execution_count": null,
   "metadata": {},
   "outputs": [],
   "source": [
    "cursor_mdb = colls.aggregate([{'$project':{'_id':False}}])\n",
    "\n",
    "trabajos = []\n",
    "for doc in cursor_mdb:\n",
    "    trabajos.append(doc)"
   ]
  },
  {
   "cell_type": "code",
   "execution_count": null,
   "metadata": {},
   "outputs": [],
   "source": [
    "df = pd.DataFrame(trabajos)\n",
    "df.set_index('published_at', inplace=True)\n",
    "\n",
    "df.columns"
   ]
  },
  {
   "cell_type": "code",
   "execution_count": null,
   "metadata": {},
   "outputs": [],
   "source": [
    "df.loc['2022']['seniority'].value_counts().plot(kind='bar')"
   ]
  },
  {
   "cell_type": "markdown",
   "metadata": {},
   "source": [
    "# Request new jobs from api"
   ]
  },
  {
   "cell_type": "code",
   "execution_count": 53,
   "metadata": {},
   "outputs": [],
   "source": [
    "import requests\n",
    "from datetime import datetime"
   ]
  },
  {
   "cell_type": "code",
   "execution_count": 54,
   "metadata": {},
   "outputs": [],
   "source": [
    "baseurl = 'https://www.getonbrd.com/api/v0/'\n",
    "\n",
    "def _request(url):\n",
    "    payload = {}\n",
    "    headers = {}\n",
    "    try:\n",
    "        response = requests.request(\"GET\", url, headers=headers, data=payload)\n",
    "        if response.status_code==200:\n",
    "            return response.json()\n",
    "    except:\n",
    "        return response.status_code"
   ]
  },
  {
   "cell_type": "code",
   "execution_count": 59,
   "metadata": {},
   "outputs": [
    {
     "data": {
      "text/plain": [
       "dict_keys(['data', 'meta'])"
      ]
     },
     "execution_count": 59,
     "metadata": {},
     "output_type": "execute_result"
    }
   ],
   "source": [
    "# PARAMS\n",
    "per_page = 5\n",
    "page = 1\n",
    "# category = 'programming'\n",
    "# category = 'sysadmin-devops-qa'\n",
    "category = 'mobile-developer'\n",
    "\n",
    "endpoint = f'categories/{category}/jobs?per_page={per_page}&page={page}&expand=[\"company\"]'\n",
    "url = baseurl+endpoint\n",
    "\n",
    "new_jobs = _request(url)\n",
    "\n",
    "new_jobs.keys()"
   ]
  },
  {
   "cell_type": "markdown",
   "metadata": {},
   "source": [
    "# Explore Tags"
   ]
  },
  {
   "cell_type": "code",
   "execution_count": 113,
   "metadata": {},
   "outputs": [],
   "source": [
    "import pickle\n",
    "import operator"
   ]
  },
  {
   "cell_type": "code",
   "execution_count": 114,
   "metadata": {},
   "outputs": [],
   "source": [
    "with open('data/list_programming_2022-08-23 18:00:54.210801.pckl', 'rb') as bindata:\n",
    "    jobs_prog = pickle.load(bindata)\n",
    "\n",
    "len(jobs_prog)"
   ]
  },
  {
   "cell_type": "code",
   "execution_count": 119,
   "metadata": {},
   "outputs": [
    {
     "data": {
      "text/plain": [
       "4490"
      ]
     },
     "execution_count": 119,
     "metadata": {},
     "output_type": "execute_result"
    }
   ],
   "source": [
    "# All tags, aprox. 10 * job publication.\n",
    "\n",
    "all_tags = []\n",
    "for j in jobs_prog:\n",
    "    all_tags += j.get('tags')\n",
    "\n",
    "len(all_tags)"
   ]
  },
  {
   "cell_type": "code",
   "execution_count": 139,
   "metadata": {},
   "outputs": [
    {
     "data": {
      "text/plain": [
       "176"
      ]
     },
     "execution_count": 139,
     "metadata": {},
     "output_type": "execute_result"
    }
   ],
   "source": [
    "# Unique tags isolated.\n",
    "\n",
    "unique_tags = list(set(all_tags.copy()))\n",
    "len(unique_tags)"
   ]
  },
  {
   "cell_type": "markdown",
   "metadata": {},
   "source": [
    "## Count tags frequencies."
   ]
  },
  {
   "cell_type": "code",
   "execution_count": null,
   "metadata": {},
   "outputs": [],
   "source": [
    "[\n",
    "('remote-handbook', 348), ('matlab', 116), ('business-intelligence', 116), ('cardano', 108),\n",
    "('data-science', 79),  ('etl', 53), ('english', 43), ('angular', 41),\n",
    "('continuous-integration', 31), ('data-visualization', 29),  ('analytics', 21),\n",
    "('deep-learning', 21), ('data-analysis', 17), ('git', 14),\n",
    "]"
   ]
  },
  {
   "cell_type": "code",
   "execution_count": null,
   "metadata": {},
   "outputs": [],
   "source": [
    "tags_dict = dict(zip(unique_tags, [0 for x in range(len(unique_tags))] ))"
   ]
  },
  {
   "cell_type": "code",
   "execution_count": 146,
   "metadata": {},
   "outputs": [],
   "source": [
    "for t in all_tags:\n",
    "    tags_dict[t] += 1"
   ]
  },
  {
   "cell_type": "code",
   "execution_count": 196,
   "metadata": {},
   "outputs": [],
   "source": [
    "tagx = sorted(tags_dict.items(), key=operator.itemgetter(1))\n",
    "tagx.reverse()"
   ]
  },
  {
   "cell_type": "code",
   "execution_count": 208,
   "metadata": {},
   "outputs": [
    {
     "data": {
      "text/plain": [
       "[('remote-handbook', 348),\n",
       " (None, 316),\n",
       " ('abap', 262),\n",
       " ('bootstrap', 146),\n",
       " ('director-de-cuentas', 130),\n",
       " ('mocha', 126),\n",
       " ('chatbot', 119),\n",
       " ('matlab', 116),\n",
       " ('business-intelligence', 116),\n",
       " ('drupal', 115),\n",
       " ('planificacion-de-medios', 111),\n",
       " ('cardano', 108),\n",
       " ('motion-graphics', 106),\n",
       " ('access-point', 103),\n",
       " ('animation', 100),\n",
       " ('awesome-companies', 99),\n",
       " ('elm', 94),\n",
       " ('amqp', 82),\n",
       " ('data-science', 79),\n",
       " ('ampl', 75),\n",
       " ('brightscript', 66),\n",
       " ('gis', 63),\n",
       " ('ext-js', 63),\n",
       " ('osb', 61),\n",
       " ('branding', 57)]"
      ]
     },
     "execution_count": 208,
     "metadata": {},
     "output_type": "execute_result"
    }
   ],
   "source": [
    "tagx[:25]"
   ]
  }
 ],
 "metadata": {
  "kernelspec": {
   "display_name": "Python 3.8.10 ('.venv': venv)",
   "language": "python",
   "name": "python3"
  },
  "language_info": {
   "codemirror_mode": {
    "name": "ipython",
    "version": 3
   },
   "file_extension": ".py",
   "mimetype": "text/x-python",
   "name": "python",
   "nbconvert_exporter": "python",
   "pygments_lexer": "ipython3",
   "version": "3.8.10"
  },
  "orig_nbformat": 4,
  "vscode": {
   "interpreter": {
    "hash": "5a9fa8f11a8a1aa84c6379facf189b860f9a8e89cbee89ebf6e2ba3d3dbfcd3f"
   }
  }
 },
 "nbformat": 4,
 "nbformat_minor": 2
}
